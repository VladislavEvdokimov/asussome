{
  "nbformat": 4,
  "nbformat_minor": 5,
  "metadata": {
    "colab": {
      "name": "Evdokimov \"Movies.ipynb\" ",
      "provenance": [],
      "collapsed_sections": [],
      "include_colab_link": true
    },
    "kernelspec": {
      "display_name": "'Python Interactive'",
      "language": "python",
      "name": "0f76b137-6db6-473c-ac2a-022c61fac5f5"
    },
    "language_info": {
      "codemirror_mode": {
        "name": "ipython",
        "version": 3
      },
      "file_extension": ".py",
      "mimetype": "text/x-python",
      "name": "python",
      "nbconvert_exporter": "python",
      "pygments_lexer": "ipython3",
      "version": "3.7.3"
    }
  },
  "cells": [
    {
      "cell_type": "markdown",
      "metadata": {
        "id": "view-in-github",
        "colab_type": "text"
      },
      "source": [
        "<a href=\"https://colab.research.google.com/github/VladislavEvdokimov/cs102/blob/master/Evdokimov_%22Movies_ipynb%22.ipynb\" target=\"_parent\"><img src=\"https://colab.research.google.com/assets/colab-badge.svg\" alt=\"Open In Colab\"/></a>"
      ]
    },
    {
      "cell_type": "code",
      "metadata": {
        "id": "A35H-2tSUrHN"
      },
      "source": [
        ""
      ],
      "id": "A35H-2tSUrHN",
      "execution_count": null,
      "outputs": []
    },
    {
      "cell_type": "code",
      "metadata": {
        "id": "architectural-petroleum"
      },
      "source": [
        "# 0. Найдите вашего любимого актера, режиссера, фильм и жанр.\n",
        "# Том Кукуруз - Tom Cruise, Кристофер Нолан - Christopher Nolan,\n",
        "# Парк Юрского Периода - Jurrasic Park, комедии - Comedy\n",
        "# В вопросах у которых стоит значок ❤︎ нужно дополнительно использовать вашего любимого актера, фильм и т.п.\n"
      ],
      "id": "architectural-petroleum",
      "execution_count": null,
      "outputs": []
    },
    {
      "cell_type": "code",
      "metadata": {
        "id": "rd0YM9jQToi1"
      },
      "source": [
        "import pandas as pd\n",
        "import io\n",
        "%matplotlib inline\n",
        "import numpy as np\n",
        "import matplotlib.pyplot as plt\n",
        "import os\n",
        "import tabulate\n",
        "import psycopg2\n",
        "df = pd.read_csv(\"tmdb-movies.csv\", delimiter=\",\")\n",
        "df.columns"
      ],
      "id": "rd0YM9jQToi1",
      "execution_count": null,
      "outputs": []
    },
    {
      "cell_type": "code",
      "metadata": {
        "id": "LmUkvQZCOXGe"
      },
      "source": [
        "# ❤︎ Фильм - Hot Pursuit \n",
        "# ❤︎ Актер - Emilia Clarke\n",
        "# ❤︎ Режиссер - Sam Mendes\n",
        "# ❤︎ Жанр - Action"
      ],
      "id": "LmUkvQZCOXGe",
      "execution_count": null,
      "outputs": []
    },
    {
      "cell_type": "code",
      "metadata": {
        "id": "ex4x21DSWStU"
      },
      "source": [
        "%matplotlib inline \n",
        "\n",
        "import pandas as pd\n",
        "import numpy as np\n",
        "import matplotlib.pyplot as plt\n",
        "import seaborn as sns\n",
        "plt.style.use(\"seaborn\")"
      ],
      "id": "ex4x21DSWStU",
      "execution_count": null,
      "outputs": []
    },
    {
      "cell_type": "code",
      "metadata": {
        "colab": {
          "base_uri": "https://localhost:8080/"
        },
        "id": "aR7eZ-G3W7DZ",
        "outputId": "88ec76ba-0802-4822-f679-b33944c88f7d"
      },
      "source": [
        "from google.colab import drive\n",
        "drive.mount('/content/drive')"
      ],
      "id": "aR7eZ-G3W7DZ",
      "execution_count": null,
      "outputs": [
        {
          "output_type": "stream",
          "text": [
            "Mounted at /content/drive\n"
          ],
          "name": "stdout"
        }
      ]
    },
    {
      "cell_type": "code",
      "metadata": {
        "id": "VHXpNYwWXFz7"
      },
      "source": [
        "data = pd.read_csv(\"/content/drive/MyDrive/tmdb-movies.csv\")"
      ],
      "id": "VHXpNYwWXFz7",
      "execution_count": null,
      "outputs": []
    },
    {
      "cell_type": "code",
      "metadata": {
        "id": "lsU9nX5bXX0b",
        "colab": {
          "base_uri": "https://localhost:8080/",
          "height": 610
        },
        "outputId": "f14dfc99-4f31-45d4-ecb6-c47acc8e3511"
      },
      "source": [
        "data.head()"
      ],
      "id": "lsU9nX5bXX0b",
      "execution_count": null,
      "outputs": [
        {
          "output_type": "execute_result",
          "data": {
            "text/html": [
              "<div>\n",
              "<style scoped>\n",
              "    .dataframe tbody tr th:only-of-type {\n",
              "        vertical-align: middle;\n",
              "    }\n",
              "\n",
              "    .dataframe tbody tr th {\n",
              "        vertical-align: top;\n",
              "    }\n",
              "\n",
              "    .dataframe thead th {\n",
              "        text-align: right;\n",
              "    }\n",
              "</style>\n",
              "<table border=\"1\" class=\"dataframe\">\n",
              "  <thead>\n",
              "    <tr style=\"text-align: right;\">\n",
              "      <th></th>\n",
              "      <th>id</th>\n",
              "      <th>imdb_id</th>\n",
              "      <th>popularity</th>\n",
              "      <th>budget</th>\n",
              "      <th>revenue</th>\n",
              "      <th>original_title</th>\n",
              "      <th>cast</th>\n",
              "      <th>homepage</th>\n",
              "      <th>director</th>\n",
              "      <th>tagline</th>\n",
              "      <th>keywords</th>\n",
              "      <th>overview</th>\n",
              "      <th>runtime</th>\n",
              "      <th>genres</th>\n",
              "      <th>production_companies</th>\n",
              "      <th>release_date</th>\n",
              "      <th>vote_count</th>\n",
              "      <th>vote_average</th>\n",
              "      <th>release_year</th>\n",
              "      <th>budget_adj</th>\n",
              "      <th>revenue_adj</th>\n",
              "    </tr>\n",
              "  </thead>\n",
              "  <tbody>\n",
              "    <tr>\n",
              "      <th>0</th>\n",
              "      <td>135397</td>\n",
              "      <td>tt0369610</td>\n",
              "      <td>32.985763</td>\n",
              "      <td>150000000</td>\n",
              "      <td>1513528810</td>\n",
              "      <td>Jurassic World</td>\n",
              "      <td>Chris Pratt|Bryce Dallas Howard|Irrfan Khan|Vi...</td>\n",
              "      <td>http://www.jurassicworld.com/</td>\n",
              "      <td>Colin Trevorrow</td>\n",
              "      <td>The park is open.</td>\n",
              "      <td>monster|dna|tyrannosaurus rex|velociraptor|island</td>\n",
              "      <td>Twenty-two years after the events of Jurassic ...</td>\n",
              "      <td>124</td>\n",
              "      <td>Action|Adventure|Science Fiction|Thriller</td>\n",
              "      <td>Universal Studios|Amblin Entertainment|Legenda...</td>\n",
              "      <td>6/9/15</td>\n",
              "      <td>5562</td>\n",
              "      <td>6.5</td>\n",
              "      <td>2015</td>\n",
              "      <td>1.379999e+08</td>\n",
              "      <td>1.392446e+09</td>\n",
              "    </tr>\n",
              "    <tr>\n",
              "      <th>1</th>\n",
              "      <td>76341</td>\n",
              "      <td>tt1392190</td>\n",
              "      <td>28.419936</td>\n",
              "      <td>150000000</td>\n",
              "      <td>378436354</td>\n",
              "      <td>Mad Max: Fury Road</td>\n",
              "      <td>Tom Hardy|Charlize Theron|Hugh Keays-Byrne|Nic...</td>\n",
              "      <td>http://www.madmaxmovie.com/</td>\n",
              "      <td>George Miller</td>\n",
              "      <td>What a Lovely Day.</td>\n",
              "      <td>future|chase|post-apocalyptic|dystopia|australia</td>\n",
              "      <td>An apocalyptic story set in the furthest reach...</td>\n",
              "      <td>120</td>\n",
              "      <td>Action|Adventure|Science Fiction|Thriller</td>\n",
              "      <td>Village Roadshow Pictures|Kennedy Miller Produ...</td>\n",
              "      <td>5/13/15</td>\n",
              "      <td>6185</td>\n",
              "      <td>7.1</td>\n",
              "      <td>2015</td>\n",
              "      <td>1.379999e+08</td>\n",
              "      <td>3.481613e+08</td>\n",
              "    </tr>\n",
              "    <tr>\n",
              "      <th>2</th>\n",
              "      <td>262500</td>\n",
              "      <td>tt2908446</td>\n",
              "      <td>13.112507</td>\n",
              "      <td>110000000</td>\n",
              "      <td>295238201</td>\n",
              "      <td>Insurgent</td>\n",
              "      <td>Shailene Woodley|Theo James|Kate Winslet|Ansel...</td>\n",
              "      <td>http://www.thedivergentseries.movie/#insurgent</td>\n",
              "      <td>Robert Schwentke</td>\n",
              "      <td>One Choice Can Destroy You</td>\n",
              "      <td>based on novel|revolution|dystopia|sequel|dyst...</td>\n",
              "      <td>Beatrice Prior must confront her inner demons ...</td>\n",
              "      <td>119</td>\n",
              "      <td>Adventure|Science Fiction|Thriller</td>\n",
              "      <td>Summit Entertainment|Mandeville Films|Red Wago...</td>\n",
              "      <td>3/18/15</td>\n",
              "      <td>2480</td>\n",
              "      <td>6.3</td>\n",
              "      <td>2015</td>\n",
              "      <td>1.012000e+08</td>\n",
              "      <td>2.716190e+08</td>\n",
              "    </tr>\n",
              "    <tr>\n",
              "      <th>3</th>\n",
              "      <td>140607</td>\n",
              "      <td>tt2488496</td>\n",
              "      <td>11.173104</td>\n",
              "      <td>200000000</td>\n",
              "      <td>2068178225</td>\n",
              "      <td>Star Wars: The Force Awakens</td>\n",
              "      <td>Harrison Ford|Mark Hamill|Carrie Fisher|Adam D...</td>\n",
              "      <td>http://www.starwars.com/films/star-wars-episod...</td>\n",
              "      <td>J.J. Abrams</td>\n",
              "      <td>Every generation has a story.</td>\n",
              "      <td>android|spaceship|jedi|space opera|3d</td>\n",
              "      <td>Thirty years after defeating the Galactic Empi...</td>\n",
              "      <td>136</td>\n",
              "      <td>Action|Adventure|Science Fiction|Fantasy</td>\n",
              "      <td>Lucasfilm|Truenorth Productions|Bad Robot</td>\n",
              "      <td>12/15/15</td>\n",
              "      <td>5292</td>\n",
              "      <td>7.5</td>\n",
              "      <td>2015</td>\n",
              "      <td>1.839999e+08</td>\n",
              "      <td>1.902723e+09</td>\n",
              "    </tr>\n",
              "    <tr>\n",
              "      <th>4</th>\n",
              "      <td>168259</td>\n",
              "      <td>tt2820852</td>\n",
              "      <td>9.335014</td>\n",
              "      <td>190000000</td>\n",
              "      <td>1506249360</td>\n",
              "      <td>Furious 7</td>\n",
              "      <td>Vin Diesel|Paul Walker|Jason Statham|Michelle ...</td>\n",
              "      <td>http://www.furious7.com/</td>\n",
              "      <td>James Wan</td>\n",
              "      <td>Vengeance Hits Home</td>\n",
              "      <td>car race|speed|revenge|suspense|car</td>\n",
              "      <td>Deckard Shaw seeks revenge against Dominic Tor...</td>\n",
              "      <td>137</td>\n",
              "      <td>Action|Crime|Thriller</td>\n",
              "      <td>Universal Pictures|Original Film|Media Rights ...</td>\n",
              "      <td>4/1/15</td>\n",
              "      <td>2947</td>\n",
              "      <td>7.3</td>\n",
              "      <td>2015</td>\n",
              "      <td>1.747999e+08</td>\n",
              "      <td>1.385749e+09</td>\n",
              "    </tr>\n",
              "  </tbody>\n",
              "</table>\n",
              "</div>"
            ],
            "text/plain": [
              "       id    imdb_id  popularity  ...  release_year    budget_adj   revenue_adj\n",
              "0  135397  tt0369610   32.985763  ...          2015  1.379999e+08  1.392446e+09\n",
              "1   76341  tt1392190   28.419936  ...          2015  1.379999e+08  3.481613e+08\n",
              "2  262500  tt2908446   13.112507  ...          2015  1.012000e+08  2.716190e+08\n",
              "3  140607  tt2488496   11.173104  ...          2015  1.839999e+08  1.902723e+09\n",
              "4  168259  tt2820852    9.335014  ...          2015  1.747999e+08  1.385749e+09\n",
              "\n",
              "[5 rows x 21 columns]"
            ]
          },
          "metadata": {
            "tags": []
          },
          "execution_count": 42
        }
      ]
    },
    {
      "cell_type": "code",
      "metadata": {
        "id": "comparable-sword"
      },
      "source": [
        "# 1. Какой фильм, а также какого жанра и года выпуска, имеет самые высокие оценки? (❤︎)"
      ],
      "id": "comparable-sword",
      "execution_count": null,
      "outputs": []
    },
    {
      "cell_type": "code",
      "metadata": {
        "id": "LAaVpKs2XwK_",
        "colab": {
          "base_uri": "https://localhost:8080/"
        },
        "outputId": "4212607a-b4cd-45e9-dbc6-26d1aa88c0ec"
      },
      "source": [
        "data[data[\"vote_count\"]==data[\"vote_count\"].max()][\"original_title\"]"
      ],
      "id": "LAaVpKs2XwK_",
      "execution_count": null,
      "outputs": [
        {
          "output_type": "execute_result",
          "data": {
            "text/plain": [
              "1964    Insidious\n",
              "Name: original_title, dtype: object"
            ]
          },
          "metadata": {
            "tags": []
          },
          "execution_count": 24
        }
      ]
    },
    {
      "cell_type": "code",
      "metadata": {
        "id": "IeNGxYZ3YQIF",
        "colab": {
          "base_uri": "https://localhost:8080/"
        },
        "outputId": "a1149047-d682-4151-9ce9-5eaa09aa93e4"
      },
      "source": [
        "data[data[\"original_title\"]==\"Hot Pursuit\"][\"vote_count\"]"
      ],
      "id": "IeNGxYZ3YQIF",
      "execution_count": null,
      "outputs": [
        {
          "output_type": "execute_result",
          "data": {
            "text/plain": [
              "137     472\n",
              "9685     10\n",
              "Name: vote_count, dtype: object"
            ]
          },
          "metadata": {
            "tags": []
          },
          "execution_count": 25
        }
      ]
    },
    {
      "cell_type": "code",
      "metadata": {
        "colab": {
          "background_save": true
        },
        "id": "angry-testament"
      },
      "source": [
        "# 2. Какой фильм имеет больше всего оценок? (❤︎)"
      ],
      "id": "angry-testament",
      "execution_count": null,
      "outputs": []
    },
    {
      "cell_type": "code",
      "metadata": {
        "id": "loBPifvpY89E",
        "colab": {
          "base_uri": "https://localhost:8080/",
          "height": 80
        },
        "outputId": "311f8c2d-0afc-435d-d2d6-17972b5be687"
      },
      "source": [
        "film = data[data[\"vote_average\"]==data[\"vote_average\"].max()]\n",
        "pd.DataFrame(film, columns=[\"original_title\", \"genres\", \"release_year\"])"
      ],
      "id": "loBPifvpY89E",
      "execution_count": null,
      "outputs": [
        {
          "output_type": "execute_result",
          "data": {
            "text/html": [
              "<div>\n",
              "<style scoped>\n",
              "    .dataframe tbody tr th:only-of-type {\n",
              "        vertical-align: middle;\n",
              "    }\n",
              "\n",
              "    .dataframe tbody tr th {\n",
              "        vertical-align: top;\n",
              "    }\n",
              "\n",
              "    .dataframe thead th {\n",
              "        text-align: right;\n",
              "    }\n",
              "</style>\n",
              "<table border=\"1\" class=\"dataframe\">\n",
              "  <thead>\n",
              "    <tr style=\"text-align: right;\">\n",
              "      <th></th>\n",
              "      <th>original_title</th>\n",
              "      <th>genres</th>\n",
              "      <th>release_year</th>\n",
              "    </tr>\n",
              "  </thead>\n",
              "  <tbody>\n",
              "    <tr>\n",
              "      <th>3894</th>\n",
              "      <td>The Story of Film: An Odyssey</td>\n",
              "      <td>Documentary</td>\n",
              "      <td>2011</td>\n",
              "    </tr>\n",
              "  </tbody>\n",
              "</table>\n",
              "</div>"
            ],
            "text/plain": [
              "                     original_title       genres  release_year\n",
              "3894  The Story of Film: An Odyssey  Documentary          2011"
            ]
          },
          "metadata": {
            "tags": []
          },
          "execution_count": 31
        }
      ]
    },
    {
      "cell_type": "code",
      "metadata": {
        "id": "closing-undergraduate"
      },
      "source": [
        "# 3. Какой фильм самый короткий/длинный по продолжительности? (❤︎)"
      ],
      "id": "closing-undergraduate",
      "execution_count": null,
      "outputs": []
    },
    {
      "cell_type": "code",
      "metadata": {
        "colab": {
          "base_uri": "https://localhost:8080/",
          "height": 128
        },
        "id": "bUMySOpmZYWB",
        "outputId": "11ce2744-b884-4589-d20f-629ba2f6f85b"
      },
      "source": [
        "film_long = data[data[\"runtime\"]==data[\"runtime\"].max()\n",
        "film_short = data[data[\"runtime\"]==data[\"runtime\"].min()]\n",
        "x = pd.DataFrame(film_short, colums=[\"original_title\", \"runtime\"])\n",
        "x.head(1)"
      ],
      "id": "bUMySOpmZYWB",
      "execution_count": null,
      "outputs": [
        {
          "output_type": "error",
          "ename": "SyntaxError",
          "evalue": "ignored",
          "traceback": [
            "\u001b[0;36m  File \u001b[0;32m\"<ipython-input-43-05d909b6272c>\"\u001b[0;36m, line \u001b[0;32m2\u001b[0m\n\u001b[0;31m    film_short = data[data[\"runtime\"]==data[\"runtime\"].min()]\u001b[0m\n\u001b[0m             ^\u001b[0m\n\u001b[0;31mSyntaxError\u001b[0m\u001b[0;31m:\u001b[0m invalid syntax\n"
          ]
        }
      ]
    },
    {
      "cell_type": "code",
      "metadata": {
        "colab": {
          "base_uri": "https://localhost:8080/",
          "height": 162
        },
        "id": "ADqj9re4avbK",
        "outputId": "09fe62f7-a19c-4466-8063-961b27a7ed1f"
      },
      "source": [
        "pd.DataFrame(film_long, columns=[\"original_title\", \"runtime\"])"
      ],
      "id": "ADqj9re4avbK",
      "execution_count": null,
      "outputs": [
        {
          "output_type": "error",
          "ename": "NameError",
          "evalue": "ignored",
          "traceback": [
            "\u001b[0;31m---------------------------------------------------------------------------\u001b[0m",
            "\u001b[0;31mNameError\u001b[0m                                 Traceback (most recent call last)",
            "\u001b[0;32m<ipython-input-33-9b234f788adb>\u001b[0m in \u001b[0;36m<module>\u001b[0;34m()\u001b[0m\n\u001b[0;32m----> 1\u001b[0;31m \u001b[0mpd\u001b[0m\u001b[0;34m.\u001b[0m\u001b[0mDataFrame\u001b[0m\u001b[0;34m(\u001b[0m\u001b[0mfilm_long\u001b[0m\u001b[0;34m,\u001b[0m \u001b[0mcolumns\u001b[0m\u001b[0;34m=\u001b[0m\u001b[0;34m[\u001b[0m\u001b[0;34m\"original_title\"\u001b[0m\u001b[0;34m,\u001b[0m \u001b[0;34m\"runtime\"\u001b[0m\u001b[0;34m]\u001b[0m\u001b[0;34m)\u001b[0m\u001b[0;34m\u001b[0m\u001b[0;34m\u001b[0m\u001b[0m\n\u001b[0m",
            "\u001b[0;31mNameError\u001b[0m: name 'film_long' is not defined"
          ]
        }
      ]
    },
    {
      "cell_type": "code",
      "metadata": {
        "id": "czech-association"
      },
      "source": [
        "# 4. Сколько всего киностудий (product_companies)?"
      ],
      "id": "czech-association",
      "execution_count": null,
      "outputs": []
    },
    {
      "cell_type": "code",
      "metadata": {
        "colab": {
          "base_uri": "https://localhost:8080/"
        },
        "id": "8D4P5hmEeX09",
        "outputId": "39db747e-3542-4361-a197-d634359441d7"
      },
      "source": [
        "listmerge=lambda f: [n for ls in f if isinstance(ls, list) for n in ls]\n",
        "res = listmerge(list(data.production_companies.str.split(\"I\")))\n",
        "production_companies = pd.DataFrame(res, columns=[\"production_companies\"]).groupby(\"production_companies\")['production_companies'].nunique()\n",
        "len(production_companies)"
      ],
      "id": "8D4P5hmEeX09",
      "execution_count": null,
      "outputs": [
        {
          "output_type": "execute_result",
          "data": {
            "text/plain": [
              "8232"
            ]
          },
          "metadata": {
            "tags": []
          },
          "execution_count": 34
        }
      ]
    },
    {
      "cell_type": "code",
      "metadata": {
        "id": "ahead-subsection"
      },
      "source": [
        "# 5. Какое количество фильмов сняла каждая из киностудий?"
      ],
      "id": "ahead-subsection",
      "execution_count": null,
      "outputs": []
    },
    {
      "cell_type": "code",
      "metadata": {
        "id": "intensive-limit"
      },
      "source": [
        "# 6. Сколько фильмов было снято одной киностудией, двумя, тремя и т.д.?"
      ],
      "id": "intensive-limit",
      "execution_count": null,
      "outputs": []
    },
    {
      "cell_type": "code",
      "metadata": {
        "colab": {
          "base_uri": "https://localhost:8080/"
        },
        "id": "5Y9BiLKQj4Yi",
        "outputId": "3d94bc28-975d-476c-c5c8-4aff71cc33b4"
      },
      "source": [
        "data.production_companies.str.split(\"I\")"
      ],
      "id": "5Y9BiLKQj4Yi",
      "execution_count": null,
      "outputs": [
        {
          "output_type": "execute_result",
          "data": {
            "text/plain": [
              "0        [Universal Studios|Amblin Entertainment|Legend...\n",
              "1        [Village Roadshow Pictures|Kennedy Miller Prod...\n",
              "2        [Summit Entertainment|Mandeville Films|Red Wag...\n",
              "3              [Lucasfilm|Truenorth Productions|Bad Robot]\n",
              "4        [Universal Pictures|Original Film|Media Rights...\n",
              "                               ...                        \n",
              "10861                                  [Bruce Brown Films]\n",
              "10862    [Cherokee Productions|Joel Productions|Douglas...\n",
              "10863                                            [Mosfilm]\n",
              "10864                            [Benedict Pictures Corp.]\n",
              "10865                                         [Norm-, ris]\n",
              "Name: production_companies, Length: 10866, dtype: object"
            ]
          },
          "metadata": {
            "tags": []
          },
          "execution_count": 38
        }
      ]
    },
    {
      "cell_type": "code",
      "metadata": {
        "colab": {
          "base_uri": "https://localhost:8080/"
        },
        "id": "H27I7s2eittg",
        "outputId": "bc72691e-4869-46c2-8996-4ab453a15f22"
      },
      "source": [
        "data.production_companies.str.split(\"I\")"
      ],
      "id": "H27I7s2eittg",
      "execution_count": null,
      "outputs": [
        {
          "output_type": "execute_result",
          "data": {
            "text/plain": [
              "0        [Universal Studios|Amblin Entertainment|Legend...\n",
              "1        [Village Roadshow Pictures|Kennedy Miller Prod...\n",
              "2        [Summit Entertainment|Mandeville Films|Red Wag...\n",
              "3              [Lucasfilm|Truenorth Productions|Bad Robot]\n",
              "4        [Universal Pictures|Original Film|Media Rights...\n",
              "                               ...                        \n",
              "10861                                  [Bruce Brown Films]\n",
              "10862    [Cherokee Productions|Joel Productions|Douglas...\n",
              "10863                                            [Mosfilm]\n",
              "10864                            [Benedict Pictures Corp.]\n",
              "10865                                         [Norm-, ris]\n",
              "Name: production_companies, Length: 10866, dtype: object"
            ]
          },
          "metadata": {
            "tags": []
          },
          "execution_count": 36
        }
      ]
    },
    {
      "cell_type": "code",
      "metadata": {
        "id": "upper-consultation"
      },
      "source": [
        "# 7. Какая средняя оценка у фильмов с вашим любимым актером?"
      ],
      "id": "upper-consultation",
      "execution_count": null,
      "outputs": []
    },
    {
      "cell_type": "code",
      "metadata": {
        "colab": {
          "base_uri": "https://localhost:8080/"
        },
        "id": "Yp0dsJw3i3ab",
        "outputId": "4a7d71f6-5bc2-4b73-f16a-00c2137f85a9"
      },
      "source": [
        "data[data['cast'].apply(lambda x: True if \"Emilia Clarke\" in str(x) else False)].vote_average.mean()"
      ],
      "id": "Yp0dsJw3i3ab",
      "execution_count": null,
      "outputs": [
        {
          "output_type": "execute_result",
          "data": {
            "text/plain": [
              "6.166666666666667"
            ]
          },
          "metadata": {
            "tags": []
          },
          "execution_count": 40
        }
      ]
    },
    {
      "cell_type": "code",
      "metadata": {
        "id": "fitted-sentence"
      },
      "source": [
        "# 7.1. Найдите актера, который снимался чаще всего и ответьте на вопрос в каких жанрах? (❤︎)"
      ],
      "id": "fitted-sentence",
      "execution_count": null,
      "outputs": []
    },
    {
      "cell_type": "code",
      "metadata": {
        "id": "elder-premium"
      },
      "source": [
        "# 8. Сборы какой кинокомпании самые высокие за последние 5 лет (с 2010 по 2015)?"
      ],
      "id": "elder-premium",
      "execution_count": null,
      "outputs": []
    },
    {
      "cell_type": "code",
      "metadata": {
        "id": "color-frontier"
      },
      "source": [
        "# 9. Топ-10 режиссеров и актеров с самым высоким в среднем рейтингом фильмов?"
      ],
      "id": "color-frontier",
      "execution_count": null,
      "outputs": []
    },
    {
      "cell_type": "code",
      "metadata": {
        "id": "dirty-letters"
      },
      "source": [
        "# 10. Фильмы в каком жанре в среднем имеют самые высокие оценки? (❤︎)"
      ],
      "id": "dirty-letters",
      "execution_count": null,
      "outputs": []
    },
    {
      "cell_type": "code",
      "metadata": {
        "id": "confused-louisiana"
      },
      "source": [
        "# 11. Топ-10 ключевых слов (keywords)?"
      ],
      "id": "confused-louisiana",
      "execution_count": null,
      "outputs": []
    },
    {
      "cell_type": "code",
      "metadata": {
        "id": "realistic-application"
      },
      "source": [
        "# 12. Растет ли бюджет фильмов с каждым годом? (постройте график)"
      ],
      "id": "realistic-application",
      "execution_count": null,
      "outputs": []
    },
    {
      "cell_type": "code",
      "metadata": {
        "id": "alien-motion"
      },
      "source": [
        "# 13. Что больше всего влияет на доходы фильмов?"
      ],
      "id": "alien-motion",
      "execution_count": null,
      "outputs": []
    },
    {
      "cell_type": "code",
      "metadata": {
        "id": "external-calculator"
      },
      "source": [
        "# 14. Топ-5 самых прибильных и убыточных фильмов (по соотношению бюджета к доходам)"
      ],
      "id": "external-calculator",
      "execution_count": null,
      "outputs": []
    },
    {
      "cell_type": "code",
      "metadata": {
        "id": "alleged-enforcement"
      },
      "source": [
        "# 15. Как изменялось количество снимаемых фильмов в жанре \"Drama\" с течением времени? (Постройте график) ❤︎"
      ],
      "id": "alleged-enforcement",
      "execution_count": null,
      "outputs": []
    },
    {
      "cell_type": "code",
      "metadata": {
        "id": "funded-small"
      },
      "source": [
        "# 16. Топ-10 актеров, которые снялись в наибольшем количестве фильмов"
      ],
      "id": "funded-small",
      "execution_count": null,
      "outputs": []
    },
    {
      "cell_type": "code",
      "metadata": {
        "id": "casual-scoop"
      },
      "source": [
        "# 17. Средний рейтинг фильмов по годам (постройте график)"
      ],
      "id": "casual-scoop",
      "execution_count": null,
      "outputs": []
    },
    {
      "cell_type": "code",
      "metadata": {
        "id": "frozen-sister"
      },
      "source": [
        "# 18. Постройте график распределения жанров (столько-то процентов это боевики, столько-то комедии и т.п.)"
      ],
      "id": "frozen-sister",
      "execution_count": null,
      "outputs": []
    },
    {
      "cell_type": "code",
      "metadata": {
        "id": "historic-defeat"
      },
      "source": [
        "# 19. Какой режиссер чаще всего снимал одного и того же актера?"
      ],
      "id": "historic-defeat",
      "execution_count": null,
      "outputs": []
    },
    {
      "cell_type": "code",
      "metadata": {
        "id": "consecutive-selling"
      },
      "source": [
        "# 20. Какая пара жанров чаще всего встречается вместе?"
      ],
      "id": "consecutive-selling",
      "execution_count": null,
      "outputs": []
    },
    {
      "cell_type": "code",
      "metadata": {
        "id": "occasional-hampshire"
      },
      "source": [
        "# 21. Топ-10 ключевых слов с самым высоким рейтингом/бюджетом/доходами фильмов (слово - срейдний рейтинг/бюджет/доходы)"
      ],
      "id": "occasional-hampshire",
      "execution_count": null,
      "outputs": []
    },
    {
      "cell_type": "code",
      "metadata": {
        "id": "early-physiology"
      },
      "source": [
        "# 22. Постройте и визуализируйте граф связей между актерами (как это было в работе АПИ ВК)."
      ],
      "id": "early-physiology",
      "execution_count": null,
      "outputs": []
    },
    {
      "cell_type": "code",
      "metadata": {
        "id": "hGEc8rQsQt6P"
      },
      "source": [
        ""
      ],
      "id": "hGEc8rQsQt6P",
      "execution_count": null,
      "outputs": []
    }
  ]
}